{
 "cells": [
  {
   "cell_type": "code",
   "execution_count": 1,
   "metadata": {},
   "outputs": [
    {
     "name": "stderr",
     "output_type": "stream",
     "text": [
      "<frozen importlib._bootstrap>:219: RuntimeWarning: scipy._lib.messagestream.MessageStream size changed, may indicate binary incompatibility. Expected 56 from C header, got 64 from PyObject\n"
     ]
    }
   ],
   "source": [
    "import pandas as pd\n",
    "import numpy as np\n",
    "\n",
    "import pandas as pd\n",
    "import numpy as np\n",
    "import seaborn as sns\n",
    "import matplotlib.pyplot as plt\n",
    "\n",
    "import scipy.stats as scipy\n",
    "import statsmodels.stats.multitest as multi\n",
    " \n",
    "\n",
    "%config Completer.use_jedi = False"
   ]
  },
  {
   "cell_type": "code",
   "execution_count": 2,
   "metadata": {},
   "outputs": [],
   "source": [
    "sample_names = ['W1', 'W2', 'W3', 'W4', 'W5', 'W6', 'B1', 'B2', 'B3', 'B4', 'B5', 'B6']\n",
    "treatment = ['W', 'W', 'W','W', 'W', 'W','B', 'B', 'B', 'B','B', 'B']"
   ]
  },
  {
   "cell_type": "code",
   "execution_count": 3,
   "metadata": {},
   "outputs": [],
   "source": [
    "slyc = pd.read_csv('/home/felix/thesis/chapter2_tomato_ISs/Results/1_Immuno_secretomes_of_tomatoes/FP_labelling/slyc_FP_labelling_data.csv', sep=',', index_col=0)\n",
    "sper = pd.read_csv('/home/felix/thesis/chapter2_tomato_ISs/Results/1_Immuno_secretomes_of_tomatoes/FP_labelling/speru_PF_labelling_data.csv', sep=',', index_col=0)\n",
    "spen = pd.read_csv('/home/felix/thesis/chapter2_tomato_ISs/Results/1_Immuno_secretomes_of_tomatoes/FP_labelling/spen_FP_labelling_data.csv', sep=',', index_col=0)"
   ]
  },
  {
   "cell_type": "code",
   "execution_count": 4,
   "metadata": {},
   "outputs": [],
   "source": [
    "for df, species in zip([slyc, sper, spen], ['slyc', 'sper', 'spen']):\n",
    "    df['name'] = sample_names\n",
    "    df['treatment'] = treatment\n",
    "    mock_mean = np.mean(df[df.treatment == 'W']['Area'].to_numpy())\n",
    "    for i in df.index:\n",
    "        df.loc[i, 'normalised_Area'] = df.loc[i, 'Area']/mock_mean\n",
    "        \n",
    "    df['species'] = species\n",
    "    df.index = sample_names"
   ]
  },
  {
   "cell_type": "code",
   "execution_count": 5,
   "metadata": {},
   "outputs": [],
   "source": [
    "fp = slyc.append([sper, spen], ignore_index=True)"
   ]
  },
  {
   "cell_type": "code",
   "execution_count": 6,
   "metadata": {},
   "outputs": [
    {
     "data": {
      "text/html": [
       "<div>\n",
       "<style scoped>\n",
       "    .dataframe tbody tr th:only-of-type {\n",
       "        vertical-align: middle;\n",
       "    }\n",
       "\n",
       "    .dataframe tbody tr th {\n",
       "        vertical-align: top;\n",
       "    }\n",
       "\n",
       "    .dataframe thead th {\n",
       "        text-align: right;\n",
       "    }\n",
       "</style>\n",
       "<table border=\"1\" class=\"dataframe\">\n",
       "  <thead>\n",
       "    <tr style=\"text-align: right;\">\n",
       "      <th></th>\n",
       "      <th>Area</th>\n",
       "      <th>name</th>\n",
       "      <th>treatment</th>\n",
       "      <th>normalised_Area</th>\n",
       "      <th>species</th>\n",
       "    </tr>\n",
       "  </thead>\n",
       "  <tbody>\n",
       "    <tr>\n",
       "      <th>0</th>\n",
       "      <td>2621.648</td>\n",
       "      <td>W1</td>\n",
       "      <td>W</td>\n",
       "      <td>0.955183</td>\n",
       "      <td>slyc</td>\n",
       "    </tr>\n",
       "    <tr>\n",
       "      <th>1</th>\n",
       "      <td>2146.113</td>\n",
       "      <td>W2</td>\n",
       "      <td>W</td>\n",
       "      <td>0.781924</td>\n",
       "      <td>slyc</td>\n",
       "    </tr>\n",
       "    <tr>\n",
       "      <th>2</th>\n",
       "      <td>2711.648</td>\n",
       "      <td>W3</td>\n",
       "      <td>W</td>\n",
       "      <td>0.987974</td>\n",
       "      <td>slyc</td>\n",
       "    </tr>\n",
       "    <tr>\n",
       "      <th>3</th>\n",
       "      <td>2711.355</td>\n",
       "      <td>W4</td>\n",
       "      <td>W</td>\n",
       "      <td>0.987867</td>\n",
       "      <td>slyc</td>\n",
       "    </tr>\n",
       "    <tr>\n",
       "      <th>4</th>\n",
       "      <td>2779.941</td>\n",
       "      <td>W5</td>\n",
       "      <td>W</td>\n",
       "      <td>1.012856</td>\n",
       "      <td>slyc</td>\n",
       "    </tr>\n",
       "  </tbody>\n",
       "</table>\n",
       "</div>"
      ],
      "text/plain": [
       "       Area name treatment  normalised_Area species\n",
       "0  2621.648   W1         W         0.955183    slyc\n",
       "1  2146.113   W2         W         0.781924    slyc\n",
       "2  2711.648   W3         W         0.987974    slyc\n",
       "3  2711.355   W4         W         0.987867    slyc\n",
       "4  2779.941   W5         W         1.012856    slyc"
      ]
     },
     "execution_count": 6,
     "metadata": {},
     "output_type": "execute_result"
    }
   ],
   "source": [
    "fp.head()"
   ]
  },
  {
   "cell_type": "code",
   "execution_count": 7,
   "metadata": {},
   "outputs": [
    {
     "data": {
      "image/png": "[encoded data removed]",
      "text/plain": [
       "<Figure size 1000x500 with 1 Axes>"
      ]
     },
     "metadata": {},
     "output_type": "display_data"
    }
   ],
   "source": [
    "plt.figure(figsize=(10, 5))\n",
    "\n",
    "sns.barplot(data=fp, x='species', hue='name', y='Area')\n",
    "\n",
    "plt.show()"
   ]
  },
  {
   "cell_type": "code",
   "execution_count": 16,
   "metadata": {},
   "outputs": [],
   "source": [
    "sl_m = fp[(fp.species == 'slyc') & (fp.treatment == 'W')].normalised_Area.to_numpy()\n",
    "sl_b = fp[(fp.species == 'slyc') & (fp.treatment == 'B')].normalised_Area.to_numpy()\n",
    "\n",
    "speru_m = fp[(fp.species == 'sper') & (fp.treatment == 'W')].normalised_Area.to_numpy()\n",
    "speru_b = fp[(fp.species == 'sper') & (fp.treatment == 'B')].normalised_Area.to_numpy()\n",
    "\n",
    "spen_m = fp[(fp.species == 'spen') & (fp.treatment == 'W')].normalised_Area.to_numpy()\n",
    "spen_b = fp[(fp.species == 'spen') & (fp.treatment == 'B')].normalised_Area.to_numpy()"
   ]
  },
  {
   "cell_type": "code",
   "execution_count": 34,
   "metadata": {},
   "outputs": [
    {
     "name": "stdout",
     "output_type": "stream",
     "text": [
      "sl:\t3.391\t7.682643182388549e-08\n",
      "speru:\t1.982\t0.004802419907197064\n",
      "spen:\t3.223\t0.0005258538784789446\n"
     ]
    },
    {
     "data": {
      "text/plain": [
       "(array([ True,  True,  True]),\n",
       " array([2.30479295e-07, 4.80241991e-03, 7.88780818e-04]))"
      ]
     },
     "execution_count": 34,
     "metadata": {},
     "output_type": "execute_result"
    }
   ],
   "source": [
    "mock = [sl_m, speru_m, spen_m]\n",
    "bion = [sl_b, speru_b, spen_b]\n",
    "species = ['sl', 'speru', 'spen']\n",
    "\n",
    "tests = []\n",
    "\n",
    "for m, b, s in zip(mock, bion, species):\n",
    "    t_v, p_v = scipy.ttest_ind(b, m, alternative='greater')\n",
    "    tests.append(p_v)\n",
    "    print(\"{}:\\t{:.3f}\\t{}\".format(s, np.mean(b)/np.mean(m), p_v))\n",
    "    \n",
    "multi.fdrcorrection(tests)"
   ]
  },
  {
   "cell_type": "code",
   "execution_count": 8,
   "metadata": {},
   "outputs": [
    {
     "data": {
      "image/png": "[encoded data removed]",
      "text/plain": [
       "<Figure size 1000x500 with 1 Axes>"
      ]
     },
     "metadata": {},
     "output_type": "display_data"
    }
   ],
   "source": [
    "plt.figure(figsize=(10, 5))\n",
    "\n",
    "sns.boxplot(data=fp, x='species', y='normalised_Area', hue='treatment')\n",
    "\n",
    "plt.show()"
   ]
  },
  {
   "cell_type": "code",
   "execution_count": 9,
   "metadata": {},
   "outputs": [
    {
     "data": {
      "image/png": "[encoded data removed]",
      "text/plain": [
       "<Figure size 700x100 with 3 Axes>"
      ]
     },
     "metadata": {},
     "output_type": "display_data"
    }
   ],
   "source": [
    "sns.set_style(\"ticks\")\n",
    "\n",
    "def annotate_axes(axes_list):\n",
    "    for i, ax in enumerate(axes_list):\n",
    "        ax.tick_params(axis='both', labelsize=8, pad=0.5)\n",
    "        # change all spines\n",
    "        for axis in ['top','bottom','left','right']:\n",
    "            ax.spines[axis].set_linewidth(0.5)\n",
    "        ax.xaxis.set_tick_params(width=0.5, length=2)\n",
    "        ax.yaxis.set_tick_params(which='minor', width=0.25, length=2)\n",
    "        ax.yaxis.set_tick_params(which='major', width=0.5, length=2)\n",
    "\n",
    "\n",
    "figure = plt.figure(figsize=(7, 1))\n",
    "\n",
    "slyc = plt.subplot2grid((1, 3), (0, 0))\n",
    "sper = plt.subplot2grid((1, 3), (0, 1))\n",
    "spen = plt.subplot2grid((1, 3), (0, 2))\n",
    "\n",
    "axes = [slyc, sper, spen]\n",
    "annotate_axes(axes)\n",
    "\n",
    "### Define some arrays ###\n",
    "\n",
    "sample_labels = ['M1', 'M2', 'M3', 'M4', 'M5', 'M6', 'B1', 'B2', 'B3', 'B4', 'B5', 'B6']\n",
    "\n",
    "### Generate individual plots ###\n",
    "\n",
    "# Slyc FP labelling\n",
    "\n",
    "slyc.set_ylim(0, 5.25)\n",
    "sns.barplot(data=fp[fp.species == 'slyc'], x='name', y='normalised_Area', hue='treatment', dodge=False, ax=slyc)\n",
    "\n",
    "slyc.set_xlabel('')\n",
    "slyc.set_ylabel('Normalised Area', fontsize=6)\n",
    "slyc.tick_params(axis='y', labelsize=6)\n",
    "slyc.set_xticklabels(sample_labels, size=5)\n",
    "\n",
    "handles, labels = slyc.get_legend_handles_labels()\n",
    "slyc.legend(handles[:2], ['Mock', 'BTH'], ncol=1, loc=2, prop={\"size\":5.5}, markerscale=0.5)\n",
    "\n",
    "\n",
    "# Sper FP labelling\n",
    "\n",
    "sper.set_ylim(0, 5.25)\n",
    "sns.barplot(data=fp[fp.species == 'sper'], x='name', y='normalised_Area', hue='treatment', dodge=False, ax=sper)\n",
    "\n",
    "sper.set_xlabel('')\n",
    "sper.set_ylabel('Normalised Area', fontsize=6)\n",
    "sper.tick_params(axis='y', labelsize=6)\n",
    "sper.set_xticklabels(sample_labels, size=5)\n",
    "\n",
    "handles, labels = sper.get_legend_handles_labels()\n",
    "sper.legend(handles[:2], ['Mock', 'BTH'], ncol=1, loc=2, prop={\"size\":5.5}, markerscale=0.5)\n",
    "\n",
    "\n",
    "\n",
    "# Spen FP labelling\n",
    "\n",
    "spen.set_ylim(0, 5.25)\n",
    "sns.barplot(data=fp[fp.species == 'spen'], x='name', y='normalised_Area', hue='treatment', dodge=False, ax=spen)\n",
    "\n",
    "spen.set_xlabel('')\n",
    "spen.set_ylabel('Normalised Area', fontsize=6)\n",
    "spen.tick_params(axis='y', labelsize=6)\n",
    "spen.set_xticklabels(sample_labels, size=5)\n",
    "\n",
    "handles, labels = spen.get_legend_handles_labels()\n",
    "spen.legend(handles[:2], ['Mock', 'BTH'], ncol=1, loc=2, prop={\"size\":5.5}, markerscale=0.5)\n",
    "\n",
    "\n",
    "plt.tight_layout()\n",
    "#plt.tight_layout(pad=0.75, h_pad=0.001)\n",
    "#plt.savefig('/home/felix/thesis/chapter2_tomato_ISs/Results/1_Immuno_secretomes_of_tomatoes/Figure3_bar_charts_jupyter.svg', transparent=True)\n",
    "plt.show()"
   ]
  },
  {
   "cell_type": "code",
   "execution_count": null,
   "metadata": {},
   "outputs": [],
   "source": []
  }
 ],
 "metadata": {
  "kernelspec": {
   "display_name": "base",
   "language": "python",
   "name": "base"
  },
  "language_info": {
   "codemirror_mode": {
    "name": "ipython",
    "version": 3
   },
   "file_extension": ".py",
   "mimetype": "text/x-python",
   "name": "python",
   "nbconvert_exporter": "python",
   "pygments_lexer": "ipython3",
   "version": "3.8.13"
  }
 },
 "nbformat": 4,
 "nbformat_minor": 4
}
