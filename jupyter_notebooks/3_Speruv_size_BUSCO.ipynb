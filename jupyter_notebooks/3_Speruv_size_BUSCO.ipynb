{
 "cells": [
  {
   "cell_type": "code",
   "execution_count": 8,
   "metadata": {},
   "outputs": [],
   "source": [
    "import pandas as pd\n",
    "import numpy as np\n",
    "import seaborn as sns\n",
    "import matplotlib.pyplot as plt\n",
    "\n",
    "import scipy.stats as scipy\n",
    "import statsmodels.stats.multitest as multi\n",
    " \n",
    "\n",
    "%config Completer.use_jedi = False"
   ]
  },
  {
   "cell_type": "code",
   "execution_count": 9,
   "metadata": {},
   "outputs": [],
   "source": [
    "df_size = pd.DataFrame([['S_lycopersicum', 37658], ['S_pimpinellifolium', 25744], ['S_peruvianum', 52929], ['S_chilense', 25885], ['S_pennellii', 38023]], columns=['species', 'proteome_size'])"
   ]
  },
  {
   "cell_type": "code",
   "execution_count": 10,
   "metadata": {},
   "outputs": [],
   "source": [
    "slyc = ['slyc', 99.4, 69.8, 29.6, 0.2, 0.4]\n",
    "spim = ['spim', 89.6, 85.2, 4.4, 2.0, 8.4]\n",
    "sper = ['sper', 95.5, 77.6, 17.9, 0.2, 4.3]\n",
    "schi = ['schi', 87.9, 85.8, 2.1, 0.5, 11.6]\n",
    "spen = ['spen', 98.8, 69.7, 29.1, 0.1, 1.1]\n",
    "\n",
    "df_busco = pd.DataFrame([schi, slyc, spen, spim, sper], columns=['species', 'complete', 'single', 'duplicated', 'fragmented', 'missing'])\n",
    "df_busco.set_index('species', inplace=True)"
   ]
  },
  {
   "cell_type": "code",
   "execution_count": 11,
   "metadata": {},
   "outputs": [
    {
     "data": {
      "text/html": [
       "<div>\n",
       "<style scoped>\n",
       "    .dataframe tbody tr th:only-of-type {\n",
       "        vertical-align: middle;\n",
       "    }\n",
       "\n",
       "    .dataframe tbody tr th {\n",
       "        vertical-align: top;\n",
       "    }\n",
       "\n",
       "    .dataframe thead th {\n",
       "        text-align: right;\n",
       "    }\n",
       "</style>\n",
       "<table border=\"1\" class=\"dataframe\">\n",
       "  <thead>\n",
       "    <tr style=\"text-align: right;\">\n",
       "      <th></th>\n",
       "      <th>complete</th>\n",
       "      <th>single</th>\n",
       "      <th>duplicated</th>\n",
       "      <th>fragmented</th>\n",
       "      <th>missing</th>\n",
       "    </tr>\n",
       "    <tr>\n",
       "      <th>species</th>\n",
       "      <th></th>\n",
       "      <th></th>\n",
       "      <th></th>\n",
       "      <th></th>\n",
       "      <th></th>\n",
       "    </tr>\n",
       "  </thead>\n",
       "  <tbody>\n",
       "    <tr>\n",
       "      <th>schi</th>\n",
       "      <td>87.9</td>\n",
       "      <td>85.8</td>\n",
       "      <td>2.1</td>\n",
       "      <td>0.5</td>\n",
       "      <td>11.6</td>\n",
       "    </tr>\n",
       "    <tr>\n",
       "      <th>slyc</th>\n",
       "      <td>99.4</td>\n",
       "      <td>69.8</td>\n",
       "      <td>29.6</td>\n",
       "      <td>0.2</td>\n",
       "      <td>0.4</td>\n",
       "    </tr>\n",
       "    <tr>\n",
       "      <th>spen</th>\n",
       "      <td>98.8</td>\n",
       "      <td>69.7</td>\n",
       "      <td>29.1</td>\n",
       "      <td>0.1</td>\n",
       "      <td>1.1</td>\n",
       "    </tr>\n",
       "    <tr>\n",
       "      <th>spim</th>\n",
       "      <td>89.6</td>\n",
       "      <td>85.2</td>\n",
       "      <td>4.4</td>\n",
       "      <td>2.0</td>\n",
       "      <td>8.4</td>\n",
       "    </tr>\n",
       "    <tr>\n",
       "      <th>sper</th>\n",
       "      <td>95.5</td>\n",
       "      <td>77.6</td>\n",
       "      <td>17.9</td>\n",
       "      <td>0.2</td>\n",
       "      <td>4.3</td>\n",
       "    </tr>\n",
       "  </tbody>\n",
       "</table>\n",
       "</div>"
      ],
      "text/plain": [
       "         complete  single  duplicated  fragmented  missing\n",
       "species                                                   \n",
       "schi         87.9    85.8         2.1         0.5     11.6\n",
       "slyc         99.4    69.8        29.6         0.2      0.4\n",
       "spen         98.8    69.7        29.1         0.1      1.1\n",
       "spim         89.6    85.2         4.4         2.0      8.4\n",
       "sper         95.5    77.6        17.9         0.2      4.3"
      ]
     },
     "execution_count": 11,
     "metadata": {},
     "output_type": "execute_result"
    }
   ],
   "source": [
    "df_busco"
   ]
  },
  {
   "cell_type": "code",
   "execution_count": 12,
   "metadata": {},
   "outputs": [],
   "source": [
    "new = []\n",
    "\n",
    "for species in df_busco.index:\n",
    "    for category in df_busco.columns:\n",
    "        value = df_busco.loc[species, category]\n",
    "        new.append([species, category, value])\n",
    "        \n",
    "df_busco_sep = pd.DataFrame(new, columns=['species', 'category', 'fraction'])"
   ]
  },
  {
   "cell_type": "code",
   "execution_count": 13,
   "metadata": {},
   "outputs": [],
   "source": [
    "df_busco_sep['species'] = pd.Categorical(df_busco_sep['species'], ['slyc', 'spim', 'sper', 'schi', 'spen'])\n",
    "df_busco_sep.sort_values(by='species', inplace=True)"
   ]
  },
  {
   "cell_type": "code",
   "execution_count": 15,
   "metadata": {},
   "outputs": [
    {
     "name": "stdout",
     "output_type": "stream",
     "text": [
      "schi 100.0\n",
      "slyc 100.00000000000001\n",
      "spen 100.0\n",
      "sper 100.0\n",
      "spim 100.0\n"
     ]
    }
   ],
   "source": [
    "categories = ['single', 'duplicated', 'fragmented', 'missing']\n",
    "\n",
    "for spec in np.unique(df_busco_sep.species.to_numpy()):\n",
    "\n",
    "    print(spec, np.sum(df_busco_sep[(df_busco_sep.species == spec) & (df_busco_sep.category.isin(categories))].fraction.to_numpy()))"
   ]
  },
  {
   "cell_type": "code",
   "execution_count": 20,
   "metadata": {},
   "outputs": [
    {
     "data": {
      "image/png": "[encoded data removed]",
      "text/plain": [
       "<Figure size 600x150 with 2 Axes>"
      ]
     },
     "metadata": {},
     "output_type": "display_data"
    }
   ],
   "source": [
    "sns.set_style(\"ticks\")\n",
    "\n",
    "def annotate_axes(axes_list):\n",
    "    for i, ax in enumerate(axes_list):\n",
    "        ax.tick_params(axis='both', labelsize=8, pad=0.5)\n",
    "        # change all spines\n",
    "        for axis in ['top','bottom','left','right']:\n",
    "            ax.spines[axis].set_linewidth(0.5)\n",
    "        ax.xaxis.set_tick_params(width=0.5, length=2)\n",
    "        ax.yaxis.set_tick_params(which='minor', width=0.25, length=2)\n",
    "        ax.yaxis.set_tick_params(which='major', width=0.5, length=2)\n",
    "\n",
    "\n",
    "figure = plt.figure(figsize=(6, 1.5))\n",
    "\n",
    "sizes = plt.subplot2grid((1, 3), (0, 0))\n",
    "busco = plt.subplot2grid((1, 3), (0, 1), colspan=2)\n",
    "\n",
    "axes = [sizes, busco]\n",
    "annotate_axes(axes)\n",
    "\n",
    "### Define some arrays ###\n",
    "species_order=['slyc', 'spim', 'sper', 'schi', 'spen'],\n",
    "species_labels = ['$\\itS.lycopersicum$', '$\\itS.pimpinellifolium$', '$\\itS.peruvianum$', '$\\itS.chilense$', '$\\itS.pennellii$']\n",
    "\n",
    "### Generate individual plots ###\n",
    "\n",
    "# Proteome sizes\n",
    "\n",
    "sizes.set_xlim(0, 55000)\n",
    "sns.barplot(data=df_size, x='proteome_size', y='species', color='silver', ax=sizes)\n",
    "\n",
    "#sizes.axvline(37658, lw=0.5, ls='--', color='black')\n",
    "\n",
    "sizes.set_xlabel('Proteome size', fontsize=8)\n",
    "sizes.tick_params(axis='x', labelsize=6)\n",
    "sizes.set_ylabel('')\n",
    "sizes.set_yticklabels(species_labels, size=7)\n",
    "\n",
    "#handles, labels = sper.get_legend_handles_labels()\n",
    "#sper.legend(handles[:2], ['Mock', 'BTH'], ncol=1, loc=2, prop={\"size\":5.5}, markerscale=0.5)\n",
    "\n",
    "\n",
    "# BUSCO analysis\n",
    "\n",
    "sns.histplot(data=df_busco_sep[df_busco_sep.category.isin(categories)], y='species', weights='fraction', hue='category', multiple='stack', palette=['blue', 'navy', 'orange', 'red'], edgecolor='black', linewidth=0, shrink=0.8, ax=busco)\n",
    "\n",
    "#handles, labels = busco.get_legend_handles_labels()\n",
    "\n",
    "busco.legend(['missing', 'fragmented', 'duplicated', 'single'], ncol=4, loc=10, prop={\"size\":6}, markerscale=0.5)\n",
    "\n",
    "busco.set_xlabel('% BUSCO', fontsize=8)\n",
    "busco.tick_params(axis='x', labelsize=6)\n",
    "busco.set_ylabel('')\n",
    "busco.set_yticklabels('')\n",
    "busco.yaxis.set_tick_params(which='major', width=0, length=0)\n",
    "\n",
    "\n",
    "plt.tight_layout()\n",
    "#plt.tight_layout(pad=0.75, h_pad=0.001)\n",
    "plt.savefig('/home/felix/thesis/chapter2_tomato_ISs/Results/2_Speruvianum_proteome/Figure5_jupyter.svg', transparent=True)\n",
    "plt.show()"
   ]
  },
  {
   "cell_type": "code",
   "execution_count": null,
   "metadata": {},
   "outputs": [],
   "source": []
  }
 ],
 "metadata": {
  "kernelspec": {
   "display_name": "base",
   "language": "python",
   "name": "base"
  },
  "language_info": {
   "codemirror_mode": {
    "name": "ipython",
    "version": 3
   },
   "file_extension": ".py",
   "mimetype": "text/x-python",
   "name": "python",
   "nbconvert_exporter": "python",
   "pygments_lexer": "ipython3",
   "version": "3.8.13"
  }
 },
 "nbformat": 4,
 "nbformat_minor": 4
}
